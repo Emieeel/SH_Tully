{
 "cells": [
  {
   "cell_type": "code",
   "execution_count": 39,
   "metadata": {},
   "outputs": [],
   "source": [
    "# Import the required modules\n",
    "import numpy as np\n",
    "import matplotlib.pyplot as plt\n",
    "# This makes the plots appear inside the notebook\n",
    "%matplotlib inline \n",
    "from scipy.integrate import odeint\n",
    "\n",
    "\n",
    "a11 = 2\n",
    "a12 = 0.3\n",
    "a21 = 0.3\n",
    "a22 = 1\n",
    "\n",
    "def dC_dt(C, t):\n",
    "    return [a11*C[0] + a12*C[1], a21*C[0] + a22*C[1]]\n",
    "\n",
    "ts = np.linspace(0, 1, 10)\n",
    "C0 = [0.0, 1.0]\n",
    "Cs = odeint(dC_dt, C0, ts)\n",
    "prey = Cs[:,0]\n",
    "predators = Cs[:,1]"
   ]
  },
  {
   "cell_type": "code",
   "execution_count": 49,
   "metadata": {},
   "outputs": [
    {
     "data": {
      "text/plain": [
       "array([[0.        , 1.        ],\n",
       "       [0.03940623, 1.11816362],\n",
       "       [0.09330141, 1.25184273],\n",
       "       [0.16591218, 1.40344166],\n",
       "       [0.26261461, 1.5758154 ],\n",
       "       [0.39023855, 1.77236809],\n",
       "       [0.55745235, 1.99717536],\n",
       "       [0.77524776, 2.25513593],\n",
       "       [1.05755226, 2.55216055],\n",
       "       [1.42200133, 2.89540723]])"
      ]
     },
     "execution_count": 49,
     "metadata": {},
     "output_type": "execute_result"
    }
   ],
   "source": [
    "Cs"
   ]
  },
  {
   "cell_type": "code",
   "execution_count": 40,
   "metadata": {},
   "outputs": [
    {
     "data": {
      "image/png": "[encoded data removed]",
      "text/plain": [
       "<Figure size 432x288 with 1 Axes>"
      ]
     },
     "metadata": {
      "needs_background": "light"
     },
     "output_type": "display_data"
    }
   ],
   "source": [
    "plt.plot(ts, prey, \"+\", label=\"C_i\")\n",
    "plt.plot(ts, predators, \"x\", label=\"C_j\")\n",
    "plt.xlabel(\"Time\")\n",
    "plt.ylabel(\"Population\")\n",
    "plt.legend();"
   ]
  },
  {
   "cell_type": "code",
   "execution_count": 41,
   "metadata": {},
   "outputs": [],
   "source": [
    "# Import the required modules\n",
    "import numpy as np\n",
    "import matplotlib.pyplot as plt\n",
    "# This makes the plots appear inside the notebook\n",
    "%matplotlib inline \n",
    "from scipy.integrate import solve_ivp\n",
    "\n",
    "\n",
    "a11 = 2\n",
    "a12 = 0.3\n",
    "a21 = 0.3\n",
    "a22 = 1\n",
    "\n",
    "\n",
    "def dz_dt(t, z, a, b, c, d):\n",
    "    x, y = z\n",
    "    return [a11*x + a12*y, a21*x + a22*y]\n",
    "\n",
    "sol = solve_ivp(dz_dt, [0, 1], [0.0, 1.0], args=(a11, a12, a21, a22),\n",
    "                dense_output=True)\n"
   ]
  },
  {
   "cell_type": "code",
   "execution_count": 53,
   "metadata": {},
   "outputs": [
    {
     "ename": "TypeError",
     "evalue": "'OdeSolution' object is not subscriptable",
     "output_type": "error",
     "traceback": [
      "\u001b[0;31m---------------------------------------------------------------------------\u001b[0m",
      "\u001b[0;31mTypeError\u001b[0m                                 Traceback (most recent call last)",
      "\u001b[0;32m<ipython-input-53-1d06246479de>\u001b[0m in \u001b[0;36m<module>\u001b[0;34m\u001b[0m\n\u001b[0;32m----> 1\u001b[0;31m \u001b[0msol\u001b[0m\u001b[0;34m.\u001b[0m\u001b[0msol\u001b[0m\u001b[0;34m[\u001b[0m\u001b[0;34m:\u001b[0m\u001b[0;34m,\u001b[0m\u001b[0;36m1\u001b[0m\u001b[0;34m]\u001b[0m\u001b[0;34m\u001b[0m\u001b[0;34m\u001b[0m\u001b[0m\n\u001b[0m",
      "\u001b[0;31mTypeError\u001b[0m: 'OdeSolution' object is not subscriptable"
     ]
    }
   ],
   "source": []
  },
  {
   "cell_type": "code",
   "execution_count": 42,
   "metadata": {},
   "outputs": [
    {
     "data": {
      "image/png": "[encoded data removed]",
      "text/plain": [
       "<Figure size 432x288 with 1 Axes>"
      ]
     },
     "metadata": {
      "needs_background": "light"
     },
     "output_type": "display_data"
    }
   ],
   "source": [
    "t = np.linspace(0, 1, 30)\n",
    "z = sol.sol(t)\n",
    "import matplotlib.pyplot as plt\n",
    "plt.plot(t, z.T)\n",
    "plt.xlabel('t')\n",
    "plt.legend(['C_i', 'C_j'], shadow=True)\n",
    "plt.title('Population')\n",
    "plt.show()"
   ]
  },
  {
   "cell_type": "code",
   "execution_count": 62,
   "metadata": {},
   "outputs": [
    {
     "data": {
      "text/plain": [
       "array([1.        , 1.03514021, 1.07163423, 1.1095421 , 1.14892677,\n",
       "       1.18985503, 1.23239751, 1.27662866, 1.32262676, 1.3704741 ,\n",
       "       1.42026052, 1.47207594, 1.52601463, 1.58217805, 1.64067486,\n",
       "       1.70162087, 1.76513912, 1.8313598 , 1.90042032, 1.97246524,\n",
       "       2.04764634, 2.12612255, 2.20806057, 2.29364538, 2.38307028,\n",
       "       2.47653917, 2.57426992, 2.67649436, 2.7834583 , 2.89542153])"
      ]
     },
     "execution_count": 62,
     "metadata": {},
     "output_type": "execute_result"
    }
   ],
   "source": [
    "z.T[:,1]"
   ]
  },
  {
   "cell_type": "code",
   "execution_count": 43,
   "metadata": {},
   "outputs": [],
   "source": [
    "#Comparison \n",
    "from scipy.linalg import eig, expm \n",
    "\n",
    "def propagator(dt):\n",
    "    H = np.array([[a11, a12], [a21, a22]])\n",
    "    Ct = C0\n",
    "    p_ij = expm(H*dt).dot(Ct)\n",
    "    return p_ij\n"
   ]
  },
  {
   "cell_type": "code",
   "execution_count": 16,
   "metadata": {},
   "outputs": [
    {
     "data": {
      "text/plain": [
       "array([1.42200118, 2.89540719])"
      ]
     },
     "execution_count": 16,
     "metadata": {},
     "output_type": "execute_result"
    }
   ],
   "source": [
    "propagator(1)"
   ]
  },
  {
   "cell_type": "code",
   "execution_count": 44,
   "metadata": {},
   "outputs": [],
   "source": [
    "resp1 = []\n",
    "resp2 = []\n",
    "for t in ts:\n",
    "    resp1.append(propagator(t)[0])\n",
    "    resp2.append(propagator(t)[1])\n"
   ]
  },
  {
   "cell_type": "code",
   "execution_count": 45,
   "metadata": {},
   "outputs": [
    {
     "data": {
      "image/png": "[encoded data removed]",
      "text/plain": [
       "<Figure size 432x288 with 1 Axes>"
      ]
     },
     "metadata": {
      "needs_background": "light"
     },
     "output_type": "display_data"
    }
   ],
   "source": [
    "plt.plot(ts, resp1, \"+\", label=\"C_i\")\n",
    "plt.plot(ts, resp2, \"x\", label=\"C_j\")\n",
    "plt.xlabel(\"Time\")\n",
    "plt.ylabel(\"Population\")\n",
    "plt.legend();"
   ]
  },
  {
   "cell_type": "code",
   "execution_count": 46,
   "metadata": {},
   "outputs": [
    {
     "data": {
      "image/png": "[encoded data removed]",
      "text/plain": [
       "<Figure size 432x288 with 1 Axes>"
      ]
     },
     "metadata": {
      "needs_background": "light"
     },
     "output_type": "display_data"
    }
   ],
   "source": [
    "plt.plot(ts, prey-resp1, \"+\", label=\"diff\")\n",
    "plt.xlabel(\"Time\")\n",
    "plt.ylabel(\"Error between RK45 and EXPM\")\n",
    "plt.legend();"
   ]
  },
  {
   "cell_type": "code",
   "execution_count": 47,
   "metadata": {},
   "outputs": [
    {
     "data": {
      "image/png": "[encoded data removed]",
      "text/plain": [
       "<Figure size 432x288 with 1 Axes>"
      ]
     },
     "metadata": {
      "needs_background": "light"
     },
     "output_type": "display_data"
    }
   ],
   "source": [
    "plt.plot(ts, prey, \"+\", label=\"RK45\")\n",
    "plt.plot(ts, resp1, \"x\", label=\"EXPM\")\n",
    "plt.xlabel(\"Time\")\n",
    "plt.ylabel(\"Error between RK45 and EXPM\")\n",
    "plt.legend();"
   ]
  },
  {
   "cell_type": "code",
   "execution_count": null,
   "metadata": {},
   "outputs": [],
   "source": []
  }
 ],
 "metadata": {
  "kernelspec": {
   "display_name": "Python 3",
   "language": "python",
   "name": "python3"
  },
  "language_info": {
   "codemirror_mode": {
    "name": "ipython",
    "version": 3
   },
   "file_extension": ".py",
   "mimetype": "text/x-python",
   "name": "python",
   "nbconvert_exporter": "python",
   "pygments_lexer": "ipython3",
   "version": "3.7.6"
  }
 },
 "nbformat": 4,
 "nbformat_minor": 4
}
